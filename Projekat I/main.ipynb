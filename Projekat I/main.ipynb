{
 "cells": [
  {
   "cell_type": "code",
   "execution_count": 1,
   "metadata": {},
   "outputs": [],
   "source": [
    "import pandas as pd\n",
    "import numpy as np\n",
    "from sklearn import preprocessing \n",
    "from sklearn.preprocessing import Normalizer"
   ]
  },
  {
   "cell_type": "code",
   "execution_count": null,
   "metadata": {},
   "outputs": [
    {
     "name": "stdout",
     "output_type": "stream",
     "text": [
      "<class 'pandas.core.frame.DataFrame'>\n",
      "RangeIndex: 5000 entries, 0 to 4999\n",
      "Data columns (total 10 columns):\n",
      " #   Column                         Non-Null Count  Dtype  \n",
      "---  ------                         --------------  -----  \n",
      " 0   Temperature                    5000 non-null   float64\n",
      " 1   Humidity                       5000 non-null   float64\n",
      " 2   PM2.5                          5000 non-null   float64\n",
      " 3   PM10                           5000 non-null   float64\n",
      " 4   NO2                            5000 non-null   float64\n",
      " 5   SO2                            5000 non-null   float64\n",
      " 6   CO                             5000 non-null   float64\n",
      " 7   Proximity_to_Industrial_Areas  5000 non-null   float64\n",
      " 8   Population_Density             5000 non-null   int64  \n",
      " 9   Air Quality                    5000 non-null   object \n",
      "dtypes: float64(8), int64(1), object(1)\n",
      "memory usage: 390.8+ KB\n"
     ]
    }
   ],
   "source": [
    "df = pd.read_csv('updated_pollution_dataset.csv')\n",
    "df.info()"
   ]
  },
  {
   "cell_type": "markdown",
   "metadata": {},
   "source": [
    "### Description of parameters\n",
    "- Temperature (°C): Average temperature of the region.\n",
    "- Humidity (%): Relative humidity recorded in the region.\n",
    "- PM2.5 Concentration (µg/m³): Fine particulate matter levels.\n",
    "- PM10 Concentration (µg/m³): Coarse particulate matter levels.\n",
    "- NO2 Concentration (ppb): Nitrogen dioxide levels.\n",
    "- SO2 Concentration (ppb): Sulfur dioxide levels.\n",
    "- CO Concentration (ppm): Carbon monoxide levels.\n",
    "- Proximity to Industrial Areas (km): Distance to the nearest industrial zone.\n",
    "- Population Density (people/km²): Number of people per square kilometer in the region\n",
    "### Air Quality Levels\n",
    "* Good: Clean air with low pollution levels.\n",
    "* Moderate: Acceptable air quality but with some pollutants present.\n",
    "* Poor: Noticeable pollution that may cause health issues for sensitive groups.\n",
    "* Hazardous: Highly polluted air posing serious health risks to the population."
   ]
  },
  {
   "cell_type": "code",
   "execution_count": 5,
   "metadata": {},
   "outputs": [
    {
     "name": "stdout",
     "output_type": "stream",
     "text": [
      "Temperature mean:30.03, median:29.0\n",
      "Humidity mean:70.06, median:69.8\n",
      "PM2.5 mean:20.14, median:12.0\n",
      "PM10 mean:30.22, median:21.7\n",
      "NO2 mean:26.41, median:25.3\n",
      "SO2 mean:10.01, median:8.0\n",
      "CO mean:1.5, median:1.41\n",
      "Proximity_to_Industrial_Areas mean:8.43, median:7.9\n",
      "Population_Density mean:497.42, median:494.0\n",
      "Air quality categories distribution {'Good': 2000, 'Moderate': 1500, 'Poor': 1000, 'Hazardous': 500}\n"
     ]
    }
   ],
   "source": [
    "for col in df.columns:\n",
    "    if df[col].dtypes!=object:\n",
    "        print(f\"{col} mean:{np.round(df[col].mean(),2)}, median:{df[col].median()}\")\n",
    "\n",
    "print(\"Air quality categories distribution\",df['Air Quality'].value_counts().to_dict())"
   ]
  },
  {
   "cell_type": "code",
   "execution_count": 6,
   "metadata": {},
   "outputs": [
    {
     "name": "stdout",
     "output_type": "stream",
     "text": [
      "   Temperature  Humidity     PM2.5      PM10       NO2       SO2        CO  \\\n",
      "0     0.362832  0.250814  0.017627  0.057278  0.200000  0.301370  0.348534   \n",
      "1     0.329646  0.429967  0.007797  0.039241  0.406957  0.311155  0.322476   \n",
      "2     0.214602  0.420195  0.090508  0.107595  0.295652  0.367906  0.319218   \n",
      "3     0.303097  0.033659  0.020678  0.020570  0.106087  0.225049  0.162866   \n",
      "4     0.289823  0.376764  0.023390  0.051266  0.252174  0.230920  0.117264   \n",
      "\n",
      "   Proximity_to_Industrial_Areas  Population_Density Air Quality  \n",
      "0                       0.163090            0.170351    Moderate  \n",
      "1                       0.150215            0.550065    Moderate  \n",
      "2                       0.115880            0.560468    Moderate  \n",
      "3                       0.369099            0.472042        Good  \n",
      "4                       0.437768            0.149545        Good  \n"
     ]
    }
   ],
   "source": [
    "minmax_scale=preprocessing.MinMaxScaler(feature_range=(0,1))\n",
    "df_minmax=df.copy()\n",
    "for col in df.columns:\n",
    "    if df[col].dtypes!=object:\n",
    "        df_minmax[col]=minmax_scale.fit_transform(df[col].values.reshape(-1,1))\n",
    "print(df_minmax.head())"
   ]
  },
  {
   "cell_type": "code",
   "execution_count": 7,
   "metadata": {},
   "outputs": [
    {
     "name": "stdout",
     "output_type": "stream",
     "text": [
      "   Temperature  Humidity     PM2.5      PM10       NO2       SO2        CO  \\\n",
      "0    -0.034080 -0.690715 -0.608589 -0.450455 -0.844581 -0.120721  0.402303   \n",
      "1    -0.257295  0.349507 -0.726706 -0.658892  0.493329 -0.046643  0.255775   \n",
      "2    -1.031106  0.292768  0.267100  0.130973 -0.226219  0.383011  0.237459   \n",
      "3    -0.435867 -1.951591 -0.571933 -0.874642 -1.451700 -0.698530 -0.641707   \n",
      "4    -0.525153  0.040593 -0.539349 -0.519934 -0.507293 -0.654083 -0.898130   \n",
      "\n",
      "   Proximity_to_Industrial_Areas  Population_Density Air Quality  \n",
      "0                      -0.588658           -1.168163    Moderate  \n",
      "1                      -0.671748            0.743598    Moderate  \n",
      "2                      -0.893318            0.795975    Moderate  \n",
      "3                       0.740767            0.350770        Good  \n",
      "4                       1.183909           -1.272917        Good  \n"
     ]
    }
   ],
   "source": [
    "scaller=preprocessing.StandardScaler()\n",
    "df_std=df.copy()\n",
    "for col in df.columns:\n",
    "    if df[col].dtypes!=object:\n",
    "        df_std[col]=scaller.fit_transform(df[col].values.reshape(-1,1))\n",
    "print(df_std.head())"
   ]
  },
  {
   "cell_type": "code",
   "execution_count": null,
   "metadata": {},
   "outputs": [],
   "source": []
  }
 ],
 "metadata": {
  "kernelspec": {
   "display_name": "Python 3",
   "language": "python",
   "name": "python3"
  },
  "language_info": {
   "codemirror_mode": {
    "name": "ipython",
    "version": 3
   },
   "file_extension": ".py",
   "mimetype": "text/x-python",
   "name": "python",
   "nbconvert_exporter": "python",
   "pygments_lexer": "ipython3",
   "version": "3.12.7"
  }
 },
 "nbformat": 4,
 "nbformat_minor": 2
}
